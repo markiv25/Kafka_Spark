{
  "nbformat": 4,
  "nbformat_minor": 0,
  "metadata": {
    "colab": {
      "provenance": []
    },
    "kernelspec": {
      "name": "python3",
      "display_name": "Python 3"
    },
    "language_info": {
      "name": "python"
    }
  },
  "cells": [
    {
      "cell_type": "code",
      "execution_count": null,
      "metadata": {
        "colab": {
          "base_uri": "https://localhost:8080/"
        },
        "id": "tL9BFirCd9F3",
        "outputId": "b562f8f7-2dd6-4ea8-a024-7f842844fa97"
      },
      "outputs": [
        {
          "output_type": "stream",
          "name": "stdout",
          "text": [
            "Looking in indexes: https://pypi.org/simple, https://us-python.pkg.dev/colab-wheels/public/simple/\n",
            "Collecting pyspark\n",
            "  Downloading pyspark-3.3.1.tar.gz (281.4 MB)\n",
            "\u001b[K     |████████████████████████████████| 281.4 MB 41 kB/s \n",
            "\u001b[?25hCollecting py4j==0.10.9.5\n",
            "  Downloading py4j-0.10.9.5-py2.py3-none-any.whl (199 kB)\n",
            "\u001b[K     |████████████████████████████████| 199 kB 28.6 MB/s \n",
            "\u001b[?25hBuilding wheels for collected packages: pyspark\n",
            "  Building wheel for pyspark (setup.py) ... \u001b[?25l\u001b[?25hdone\n",
            "  Created wheel for pyspark: filename=pyspark-3.3.1-py2.py3-none-any.whl size=281845512 sha256=8c8be3b002d444171ab1251e56b7aa486789515e88ec2c183850c9d09b8ad542\n",
            "  Stored in directory: /root/.cache/pip/wheels/43/dc/11/ec201cd671da62fa9c5cc77078235e40722170ceba231d7598\n",
            "Successfully built pyspark\n",
            "Installing collected packages: py4j, pyspark\n",
            "Successfully installed py4j-0.10.9.5 pyspark-3.3.1\n"
          ]
        }
      ],
      "source": [
        "!pip install pyspark\n",
        "#install Pyspark If not Installed"
      ]
    },
    {
      "cell_type": "code",
      "source": [
        "#import All neccsesary libs\n",
        "from pyspark.ml.classification import MultilayerPerceptronClassifier\n",
        "from pyspark.ml.evaluation import MulticlassClassificationEvaluator\n",
        "from pyspark.ml.feature import VectorAssembler"
      ],
      "metadata": {
        "id": "uho8f8yoeChS"
      },
      "execution_count": null,
      "outputs": []
    },
    {
      "cell_type": "code",
      "source": [
        "import io\n",
        "import pyspark\n",
        "from pyspark.sql import SparkSession\n",
        "#create SparkSession & load the data\n",
        "spark = SparkSession.builder.appName('model').getOrCreate()\n",
        "df = spark.read.csv('DOT_Traffic_Speeds_NBE.csv', header = True, inferSchema = True)\n",
        "df.printSchema()"
      ],
      "metadata": {
        "colab": {
          "base_uri": "https://localhost:8080/"
        },
        "id": "Rk1LjBNUeP5o",
        "outputId": "bb107536-c759-402c-e9f0-7f14c5c62c8b"
      },
      "execution_count": null,
      "outputs": [
        {
          "output_type": "stream",
          "name": "stdout",
          "text": [
            "root\n",
            " |-- ID: integer (nullable = true)\n",
            " |-- SPEED: double (nullable = true)\n",
            " |-- TRAVEL_TIME: integer (nullable = true)\n",
            " |-- STATUS: integer (nullable = true)\n",
            " |-- DATA_AS_OF: string (nullable = true)\n",
            " |-- LINK_ID: integer (nullable = true)\n",
            " |-- LINK_POINTS: string (nullable = true)\n",
            " |-- ENCODED_POLY_LINE: string (nullable = true)\n",
            " |-- ENCODED_POLY_LINE_LVLS: string (nullable = true)\n",
            " |-- OWNER: string (nullable = true)\n",
            " |-- TRANSCOM_ID: integer (nullable = true)\n",
            " |-- BOROUGH: string (nullable = true)\n",
            " |-- LINK_NAME: string (nullable = true)\n",
            "\n"
          ]
        }
      ]
    },
    {
      "cell_type": "code",
      "source": [
        "#Drop un wanted Features\n",
        "df=df.drop('LINK_ID','LINK_POINTS','ENCODED_POLY_LINE','ENCODED_POLY_LINE_LVLS','OWNER','TRANSCOM_ID','BOROUGH','ID')\n"
      ],
      "metadata": {
        "id": "ohy2xElnfFfj"
      },
      "execution_count": null,
      "outputs": []
    },
    {
      "cell_type": "code",
      "source": [
        "df.printSchema()\n",
        "from pyspark.sql import functions as F\n"
      ],
      "metadata": {
        "colab": {
          "base_uri": "https://localhost:8080/"
        },
        "id": "4JT0rI0dhSpK",
        "outputId": "139800cc-5f59-42c6-a50c-faf4c0c9c060"
      },
      "execution_count": null,
      "outputs": [
        {
          "output_type": "stream",
          "name": "stdout",
          "text": [
            "root\n",
            " |-- SPEED: double (nullable = true)\n",
            " |-- TRAVEL_TIME: integer (nullable = true)\n",
            " |-- STATUS: integer (nullable = true)\n",
            " |-- DATA_AS_OF: string (nullable = true)\n",
            " |-- LINK_NAME: string (nullable = true)\n",
            "\n"
          ]
        }
      ]
    },
    {
      "cell_type": "code",
      "source": [
        "df.show()"
      ],
      "metadata": {
        "colab": {
          "base_uri": "https://localhost:8080/"
        },
        "id": "cCgyoUsNfZOn",
        "outputId": "1fb16527-1fb0-46c2-a349-1d386e3957e9"
      },
      "execution_count": null,
      "outputs": [
        {
          "output_type": "stream",
          "name": "stdout",
          "text": [
            "+-----+-----------+------+--------------+--------------------+\n",
            "|SPEED|TRAVEL_TIME|STATUS|    DATA_AS_OF|           LINK_NAME|\n",
            "+-----+-----------+------+--------------+--------------------+\n",
            "|52.82|         67|     0|5/5/2017 10:06|HRP N LAFAYETTE A...|\n",
            "|24.85|        289|     0|5/5/2017 10:06|BQE N Atlantic Av...|\n",
            "|54.06|         71|     0| 5/5/2017 9:51|HRP N LAFAYETTE A...|\n",
            "| 26.1|        274|     0| 5/5/2017 9:51|BQE N Atlantic Av...|\n",
            "|52.82|         67|     0|5/5/2017 10:11|HRP N LAFAYETTE A...|\n",
            "|24.23|        295|     0|5/5/2017 10:11|BQE N Atlantic Av...|\n",
            "|52.82|         72|     0|5/5/2017 19:16|HRP N LAFAYETTE A...|\n",
            "|54.06|         66|     0|5/5/2017 10:16|HRP N LAFAYETTE A...|\n",
            "|24.23|        293|     0|5/5/2017 10:16|BQE N Atlantic Av...|\n",
            "|11.81|        590|     0|5/5/2017 19:16|BQE N Atlantic Av...|\n",
            "|49.71|         74|     0|5/5/2017 10:21|HRP N LAFAYETTE A...|\n",
            "|22.99|        312|     0|5/5/2017 10:21|BQE N Atlantic Av...|\n",
            "|52.82|         69|     0|5/5/2017 19:21|HRP N LAFAYETTE A...|\n",
            "|50.95|         74|     0|5/5/2017 10:26|HRP N LAFAYETTE A...|\n",
            "|22.99|        305|     0|5/5/2017 10:26|BQE N Atlantic Av...|\n",
            "|54.06|         70|     0| 5/5/2017 9:56|HRP N LAFAYETTE A...|\n",
            "|13.05|        548|     0|5/5/2017 19:21|BQE N Atlantic Av...|\n",
            "|49.09|         75|     0|5/5/2017 10:31|HRP N LAFAYETTE A...|\n",
            "|22.99|        311|     0|5/5/2017 10:31|BQE N Atlantic Av...|\n",
            "|49.09|         78|     0| 5/5/2017 9:46|HRP N LAFAYETTE A...|\n",
            "+-----+-----------+------+--------------+--------------------+\n",
            "only showing top 20 rows\n",
            "\n"
          ]
        }
      ]
    },
    {
      "cell_type": "code",
      "source": [
        "label = df['TRAVEL_TIME']\n",
        "from pyspark.sql import functions as F\n",
        "import datetime\n",
        "import pandas as pd\n",
        "from pyspark.sql.functions import hour\n",
        "from pyspark.sql.functions import minute\n",
        "from pyspark.sql.functions import dayofweek"
      ],
      "metadata": {
        "id": "gpuBOTM8fqbo"
      },
      "execution_count": null,
      "outputs": []
    },
    {
      "cell_type": "code",
      "source": [
        "from pyspark.sql import functions as F\n",
        "# Convert the Spark DataFrame to Pandas DataFrame\n",
        "df=df.toPandas()"
      ],
      "metadata": {
        "id": "IAfVMi0ygHuq"
      },
      "execution_count": null,
      "outputs": []
    },
    {
      "cell_type": "code",
      "source": [
        "import datetime\n",
        "from datetime import datetime\n",
        "from sklearn.preprocessing import LabelEncoder"
      ],
      "metadata": {
        "id": "5fCTOFXYk0JO"
      },
      "execution_count": null,
      "outputs": []
    },
    {
      "cell_type": "code",
      "source": [
        "# Convert the String datatime to datetime format\n",
        "s = pd.to_datetime(df.DATA_AS_OF.astype(str))"
      ],
      "metadata": {
        "id": "pgPNPg4IkV6z"
      },
      "execution_count": null,
      "outputs": []
    },
    {
      "cell_type": "code",
      "source": [
        "from sklearn.preprocessing import LabelEncoder\n"
      ],
      "metadata": {
        "id": "gwN370c4lBRG"
      },
      "execution_count": null,
      "outputs": []
    },
    {
      "cell_type": "code",
      "source": [
        "#Extract Hour & Minute & Day of Week\n",
        "df['hr']=s.dt.hour\n",
        "df['min']=s.dt.minute\n",
        "df['day'] =s.dt.weekday"
      ],
      "metadata": {
        "id": "kWwH3nkYk5Xv"
      },
      "execution_count": null,
      "outputs": []
    },
    {
      "cell_type": "code",
      "source": [
        "#Encode the Link_name to Numeric format to feed to the model\n",
        "le = LabelEncoder()\n",
        "df['LINK_NAME'] = le.fit_transform(df['LINK_NAME'])\n",
        "y=df['TRAVEL_TIME']\n",
        "df=df.drop(['TRAVEL_TIME'],axis=1)\n",
        "# Extract the Travel-time \n"
      ],
      "metadata": {
        "id": "CgSwy50IlC6J"
      },
      "execution_count": null,
      "outputs": []
    },
    {
      "cell_type": "code",
      "source": [
        "# drop the data_as_of \n",
        "df=df.drop(['DATA_AS_OF'],axis=1)"
      ],
      "metadata": {
        "id": "s3MnZfYalTfy"
      },
      "execution_count": null,
      "outputs": []
    },
    {
      "cell_type": "code",
      "source": [
        "df=df.drop(['STATUS'],axis=1)"
      ],
      "metadata": {
        "id": "ZLONSQiDux14"
      },
      "execution_count": null,
      "outputs": []
    },
    {
      "cell_type": "code",
      "source": [
        "df[:3]"
      ],
      "metadata": {
        "colab": {
          "base_uri": "https://localhost:8080/",
          "height": 143
        },
        "id": "5JgFEiholN2Y",
        "outputId": "a3cbcb4e-47c6-4b00-eb5d-5594e02563e4"
      },
      "execution_count": null,
      "outputs": [
        {
          "output_type": "execute_result",
          "data": {
            "text/plain": [
              "   SPEED  LINK_NAME  hr  min  day\n",
              "0  52.82          1  10    6    4\n",
              "1  24.85          0  10    6    4\n",
              "2  54.06          1   9   51    4"
            ],
            "text/html": [
              "\n",
              "  <div id=\"df-d9b9b641-629d-4dfd-bbf0-859dd00de824\">\n",
              "    <div class=\"colab-df-container\">\n",
              "      <div>\n",
              "<style scoped>\n",
              "    .dataframe tbody tr th:only-of-type {\n",
              "        vertical-align: middle;\n",
              "    }\n",
              "\n",
              "    .dataframe tbody tr th {\n",
              "        vertical-align: top;\n",
              "    }\n",
              "\n",
              "    .dataframe thead th {\n",
              "        text-align: right;\n",
              "    }\n",
              "</style>\n",
              "<table border=\"1\" class=\"dataframe\">\n",
              "  <thead>\n",
              "    <tr style=\"text-align: right;\">\n",
              "      <th></th>\n",
              "      <th>SPEED</th>\n",
              "      <th>LINK_NAME</th>\n",
              "      <th>hr</th>\n",
              "      <th>min</th>\n",
              "      <th>day</th>\n",
              "    </tr>\n",
              "  </thead>\n",
              "  <tbody>\n",
              "    <tr>\n",
              "      <th>0</th>\n",
              "      <td>52.82</td>\n",
              "      <td>1</td>\n",
              "      <td>10</td>\n",
              "      <td>6</td>\n",
              "      <td>4</td>\n",
              "    </tr>\n",
              "    <tr>\n",
              "      <th>1</th>\n",
              "      <td>24.85</td>\n",
              "      <td>0</td>\n",
              "      <td>10</td>\n",
              "      <td>6</td>\n",
              "      <td>4</td>\n",
              "    </tr>\n",
              "    <tr>\n",
              "      <th>2</th>\n",
              "      <td>54.06</td>\n",
              "      <td>1</td>\n",
              "      <td>9</td>\n",
              "      <td>51</td>\n",
              "      <td>4</td>\n",
              "    </tr>\n",
              "  </tbody>\n",
              "</table>\n",
              "</div>\n",
              "      <button class=\"colab-df-convert\" onclick=\"convertToInteractive('df-d9b9b641-629d-4dfd-bbf0-859dd00de824')\"\n",
              "              title=\"Convert this dataframe to an interactive table.\"\n",
              "              style=\"display:none;\">\n",
              "        \n",
              "  <svg xmlns=\"http://www.w3.org/2000/svg\" height=\"24px\"viewBox=\"0 0 24 24\"\n",
              "       width=\"24px\">\n",
              "    <path d=\"M0 0h24v24H0V0z\" fill=\"none\"/>\n",
              "    <path d=\"M18.56 5.44l.94 2.06.94-2.06 2.06-.94-2.06-.94-.94-2.06-.94 2.06-2.06.94zm-11 1L8.5 8.5l.94-2.06 2.06-.94-2.06-.94L8.5 2.5l-.94 2.06-2.06.94zm10 10l.94 2.06.94-2.06 2.06-.94-2.06-.94-.94-2.06-.94 2.06-2.06.94z\"/><path d=\"M17.41 7.96l-1.37-1.37c-.4-.4-.92-.59-1.43-.59-.52 0-1.04.2-1.43.59L10.3 9.45l-7.72 7.72c-.78.78-.78 2.05 0 2.83L4 21.41c.39.39.9.59 1.41.59.51 0 1.02-.2 1.41-.59l7.78-7.78 2.81-2.81c.8-.78.8-2.07 0-2.86zM5.41 20L4 18.59l7.72-7.72 1.47 1.35L5.41 20z\"/>\n",
              "  </svg>\n",
              "      </button>\n",
              "      \n",
              "  <style>\n",
              "    .colab-df-container {\n",
              "      display:flex;\n",
              "      flex-wrap:wrap;\n",
              "      gap: 12px;\n",
              "    }\n",
              "\n",
              "    .colab-df-convert {\n",
              "      background-color: #E8F0FE;\n",
              "      border: none;\n",
              "      border-radius: 50%;\n",
              "      cursor: pointer;\n",
              "      display: none;\n",
              "      fill: #1967D2;\n",
              "      height: 32px;\n",
              "      padding: 0 0 0 0;\n",
              "      width: 32px;\n",
              "    }\n",
              "\n",
              "    .colab-df-convert:hover {\n",
              "      background-color: #E2EBFA;\n",
              "      box-shadow: 0px 1px 2px rgba(60, 64, 67, 0.3), 0px 1px 3px 1px rgba(60, 64, 67, 0.15);\n",
              "      fill: #174EA6;\n",
              "    }\n",
              "\n",
              "    [theme=dark] .colab-df-convert {\n",
              "      background-color: #3B4455;\n",
              "      fill: #D2E3FC;\n",
              "    }\n",
              "\n",
              "    [theme=dark] .colab-df-convert:hover {\n",
              "      background-color: #434B5C;\n",
              "      box-shadow: 0px 1px 3px 1px rgba(0, 0, 0, 0.15);\n",
              "      filter: drop-shadow(0px 1px 2px rgba(0, 0, 0, 0.3));\n",
              "      fill: #FFFFFF;\n",
              "    }\n",
              "  </style>\n",
              "\n",
              "      <script>\n",
              "        const buttonEl =\n",
              "          document.querySelector('#df-d9b9b641-629d-4dfd-bbf0-859dd00de824 button.colab-df-convert');\n",
              "        buttonEl.style.display =\n",
              "          google.colab.kernel.accessAllowed ? 'block' : 'none';\n",
              "\n",
              "        async function convertToInteractive(key) {\n",
              "          const element = document.querySelector('#df-d9b9b641-629d-4dfd-bbf0-859dd00de824');\n",
              "          const dataTable =\n",
              "            await google.colab.kernel.invokeFunction('convertToInteractive',\n",
              "                                                     [key], {});\n",
              "          if (!dataTable) return;\n",
              "\n",
              "          const docLinkHtml = 'Like what you see? Visit the ' +\n",
              "            '<a target=\"_blank\" href=https://colab.research.google.com/notebooks/data_table.ipynb>data table notebook</a>'\n",
              "            + ' to learn more about interactive tables.';\n",
              "          element.innerHTML = '';\n",
              "          dataTable['output_type'] = 'display_data';\n",
              "          await google.colab.output.renderOutput(dataTable, element);\n",
              "          const docLink = document.createElement('div');\n",
              "          docLink.innerHTML = docLinkHtml;\n",
              "          element.appendChild(docLink);\n",
              "        }\n",
              "      </script>\n",
              "    </div>\n",
              "  </div>\n",
              "  "
            ]
          },
          "metadata": {},
          "execution_count": 76
        }
      ]
    },
    {
      "cell_type": "code",
      "source": [
        "df = spark.createDataFrame(df) "
      ],
      "metadata": {
        "id": "2OjMqMmrxXA0"
      },
      "execution_count": null,
      "outputs": []
    },
    {
      "cell_type": "code",
      "source": [
        "df=df1"
      ],
      "metadata": {
        "id": "Rp4ygyoonwFH"
      },
      "execution_count": null,
      "outputs": []
    },
    {
      "cell_type": "code",
      "source": [
        "\n",
        "df=df.dropna(subset=['rolling_Mean'\t,'rolling_Max',\t'rolling_Min'], how='any')\n",
        "label = df['TRAVEL_TIME']\n",
        "y=df['TRAVEL_TIME']\n",
        "df=df.drop(['TRAVEL_TIME'],axis=1)\n",
        "\n"
      ],
      "metadata": {
        "id": "xlz4orNTxmfy",
        "colab": {
          "base_uri": "https://localhost:8080/",
          "height": 380
        },
        "outputId": "fb430772-78e0-4345-d380-b0c5ca1ff511"
      },
      "execution_count": null,
      "outputs": [
        {
          "output_type": "error",
          "ename": "AnalysisException",
          "evalue": "ignored",
          "traceback": [
            "\u001b[0;31m---------------------------------------------------------------------------\u001b[0m",
            "\u001b[0;31mAnalysisException\u001b[0m                         Traceback (most recent call last)",
            "\u001b[0;32m<ipython-input-46-778bceaa88fe>\u001b[0m in \u001b[0;36m<module>\u001b[0;34m\u001b[0m\n\u001b[0;32m----> 1\u001b[0;31m \u001b[0mdf\u001b[0m\u001b[0;34m=\u001b[0m\u001b[0mdf\u001b[0m\u001b[0;34m.\u001b[0m\u001b[0mdropna\u001b[0m\u001b[0;34m(\u001b[0m\u001b[0msubset\u001b[0m\u001b[0;34m=\u001b[0m\u001b[0;34m[\u001b[0m\u001b[0;34m'rolling_Mean'\u001b[0m     \u001b[0;34m,\u001b[0m\u001b[0;34m'rolling_Max'\u001b[0m\u001b[0;34m,\u001b[0m \u001b[0;34m'rolling_Min'\u001b[0m\u001b[0;34m]\u001b[0m\u001b[0;34m,\u001b[0m \u001b[0mhow\u001b[0m\u001b[0;34m=\u001b[0m\u001b[0;34m'any'\u001b[0m\u001b[0;34m)\u001b[0m\u001b[0;34m\u001b[0m\u001b[0;34m\u001b[0m\u001b[0m\n\u001b[0m\u001b[1;32m      2\u001b[0m \u001b[0mlabel\u001b[0m \u001b[0;34m=\u001b[0m \u001b[0mdf\u001b[0m\u001b[0;34m[\u001b[0m\u001b[0;34m'TRAVEL_TIME'\u001b[0m\u001b[0;34m]\u001b[0m\u001b[0;34m\u001b[0m\u001b[0;34m\u001b[0m\u001b[0m\n\u001b[1;32m      3\u001b[0m \u001b[0my\u001b[0m\u001b[0;34m=\u001b[0m\u001b[0mdf\u001b[0m\u001b[0;34m[\u001b[0m\u001b[0;34m'TRAVEL_TIME'\u001b[0m\u001b[0;34m]\u001b[0m\u001b[0;34m\u001b[0m\u001b[0;34m\u001b[0m\u001b[0m\n\u001b[1;32m      4\u001b[0m \u001b[0mdf\u001b[0m\u001b[0;34m=\u001b[0m\u001b[0mdf\u001b[0m\u001b[0;34m.\u001b[0m\u001b[0mdrop\u001b[0m\u001b[0;34m(\u001b[0m\u001b[0;34m[\u001b[0m\u001b[0;34m'TRAVEL_TIME'\u001b[0m\u001b[0;34m]\u001b[0m\u001b[0;34m,\u001b[0m\u001b[0maxis\u001b[0m\u001b[0;34m=\u001b[0m\u001b[0;36m1\u001b[0m\u001b[0;34m)\u001b[0m\u001b[0;34m\u001b[0m\u001b[0;34m\u001b[0m\u001b[0m\n\u001b[1;32m      5\u001b[0m \u001b[0;34m\u001b[0m\u001b[0m\n",
            "\u001b[0;32m/usr/local/lib/python3.8/dist-packages/pyspark/sql/dataframe.py\u001b[0m in \u001b[0;36mdropna\u001b[0;34m(self, how, thresh, subset)\u001b[0m\n\u001b[1;32m   2450\u001b[0m             \u001b[0mthresh\u001b[0m \u001b[0;34m=\u001b[0m \u001b[0mlen\u001b[0m\u001b[0;34m(\u001b[0m\u001b[0msubset\u001b[0m\u001b[0;34m)\u001b[0m \u001b[0;32mif\u001b[0m \u001b[0mhow\u001b[0m \u001b[0;34m==\u001b[0m \u001b[0;34m\"any\"\u001b[0m \u001b[0;32melse\u001b[0m \u001b[0;36m1\u001b[0m\u001b[0;34m\u001b[0m\u001b[0;34m\u001b[0m\u001b[0m\n\u001b[1;32m   2451\u001b[0m \u001b[0;34m\u001b[0m\u001b[0m\n\u001b[0;32m-> 2452\u001b[0;31m         \u001b[0;32mreturn\u001b[0m \u001b[0mDataFrame\u001b[0m\u001b[0;34m(\u001b[0m\u001b[0mself\u001b[0m\u001b[0;34m.\u001b[0m\u001b[0m_jdf\u001b[0m\u001b[0;34m.\u001b[0m\u001b[0mna\u001b[0m\u001b[0;34m(\u001b[0m\u001b[0;34m)\u001b[0m\u001b[0;34m.\u001b[0m\u001b[0mdrop\u001b[0m\u001b[0;34m(\u001b[0m\u001b[0mthresh\u001b[0m\u001b[0;34m,\u001b[0m \u001b[0mself\u001b[0m\u001b[0;34m.\u001b[0m\u001b[0m_jseq\u001b[0m\u001b[0;34m(\u001b[0m\u001b[0msubset\u001b[0m\u001b[0;34m)\u001b[0m\u001b[0;34m)\u001b[0m\u001b[0;34m,\u001b[0m \u001b[0mself\u001b[0m\u001b[0;34m.\u001b[0m\u001b[0msparkSession\u001b[0m\u001b[0;34m)\u001b[0m\u001b[0;34m\u001b[0m\u001b[0;34m\u001b[0m\u001b[0m\n\u001b[0m\u001b[1;32m   2453\u001b[0m \u001b[0;34m\u001b[0m\u001b[0m\n\u001b[1;32m   2454\u001b[0m     \u001b[0;34m@\u001b[0m\u001b[0moverload\u001b[0m\u001b[0;34m\u001b[0m\u001b[0;34m\u001b[0m\u001b[0m\n",
            "\u001b[0;32m/usr/local/lib/python3.8/dist-packages/py4j/java_gateway.py\u001b[0m in \u001b[0;36m__call__\u001b[0;34m(self, *args)\u001b[0m\n\u001b[1;32m   1319\u001b[0m \u001b[0;34m\u001b[0m\u001b[0m\n\u001b[1;32m   1320\u001b[0m         \u001b[0manswer\u001b[0m \u001b[0;34m=\u001b[0m \u001b[0mself\u001b[0m\u001b[0;34m.\u001b[0m\u001b[0mgateway_client\u001b[0m\u001b[0;34m.\u001b[0m\u001b[0msend_command\u001b[0m\u001b[0;34m(\u001b[0m\u001b[0mcommand\u001b[0m\u001b[0;34m)\u001b[0m\u001b[0;34m\u001b[0m\u001b[0;34m\u001b[0m\u001b[0m\n\u001b[0;32m-> 1321\u001b[0;31m         return_value = get_return_value(\n\u001b[0m\u001b[1;32m   1322\u001b[0m             answer, self.gateway_client, self.target_id, self.name)\n\u001b[1;32m   1323\u001b[0m \u001b[0;34m\u001b[0m\u001b[0m\n",
            "\u001b[0;32m/usr/local/lib/python3.8/dist-packages/pyspark/sql/utils.py\u001b[0m in \u001b[0;36mdeco\u001b[0;34m(*a, **kw)\u001b[0m\n\u001b[1;32m    194\u001b[0m                 \u001b[0;31m# Hide where the exception came from that shows a non-Pythonic\u001b[0m\u001b[0;34m\u001b[0m\u001b[0;34m\u001b[0m\u001b[0;34m\u001b[0m\u001b[0m\n\u001b[1;32m    195\u001b[0m                 \u001b[0;31m# JVM exception message.\u001b[0m\u001b[0;34m\u001b[0m\u001b[0;34m\u001b[0m\u001b[0;34m\u001b[0m\u001b[0m\n\u001b[0;32m--> 196\u001b[0;31m                 \u001b[0;32mraise\u001b[0m \u001b[0mconverted\u001b[0m \u001b[0;32mfrom\u001b[0m \u001b[0;32mNone\u001b[0m\u001b[0;34m\u001b[0m\u001b[0;34m\u001b[0m\u001b[0m\n\u001b[0m\u001b[1;32m    197\u001b[0m             \u001b[0;32melse\u001b[0m\u001b[0;34m:\u001b[0m\u001b[0;34m\u001b[0m\u001b[0;34m\u001b[0m\u001b[0m\n\u001b[1;32m    198\u001b[0m                 \u001b[0;32mraise\u001b[0m\u001b[0;34m\u001b[0m\u001b[0;34m\u001b[0m\u001b[0m\n",
            "\u001b[0;31mAnalysisException\u001b[0m: Cannot resolve column name \"rolling_Mean\" among (SPEED, LINK_NAME, hr, min, day)"
          ]
        }
      ]
    },
    {
      "cell_type": "markdown",
      "source": [
        "# Re-Convert the Pandas DataFrame to Spark DataFrame\n",
        "df = spark.createDataFrame(df)"
      ],
      "metadata": {
        "id": "ez1On042ldC_"
      }
    },
    {
      "cell_type": "code",
      "source": [
        "# Vectorize the Features\n",
        "from pyspark.ml.feature import VectorAssembler\n",
        "assembler = VectorAssembler().setInputCols(df.columns[:]).setOutputCol('features').setHandleInvalid(\"keep\")"
      ],
      "metadata": {
        "id": "OLhkWi4PmCuK"
      },
      "execution_count": null,
      "outputs": []
    },
    {
      "cell_type": "code",
      "source": [
        "df = assembler.transform(df)"
      ],
      "metadata": {
        "id": "voSPReUqmdjq"
      },
      "execution_count": null,
      "outputs": []
    },
    {
      "cell_type": "code",
      "source": [
        "df1 = df.toPandas()"
      ],
      "metadata": {
        "id": "IFGENYvxow8H"
      },
      "execution_count": null,
      "outputs": []
    },
    {
      "cell_type": "code",
      "source": [
        "# Convert the Back to Pandas & extract labels, remove duplicates \n",
        "df = df.toPandas()\n",
        "features = df['features']\n",
        "features_df = pd.DataFrame(data = {'features': features})\n",
        "features_df = features_df.loc[~features_df.index.duplicated(), :]\n",
        "label_df = pd.DataFrame(data = {'label': y})\n",
        "label_df = label_df.loc[~label_df.index.duplicated(), :]\n",
        "transportation_df = pd.concat([features_df, label_df], axis= 1).dropna()  \n",
        "transportation_df.head()"
      ],
      "metadata": {
        "id": "pNw9DRgTmjux"
      },
      "execution_count": null,
      "outputs": []
    },
    {
      "cell_type": "markdown",
      "source": [],
      "metadata": {
        "id": "BxcA5s_GfRUo"
      }
    },
    {
      "cell_type": "code",
      "source": [
        "# Split the data in Train/Test(80% & 20&) respectively \n",
        "transportation_df = spark.createDataFrame(transportation_df)\n",
        "trainSet, testSet, valid = transportation_df.randomSplit([0.8, 0.1,0.1])"
      ],
      "metadata": {
        "id": "jGoKS-0xneqC"
      },
      "execution_count": null,
      "outputs": []
    },
    {
      "cell_type": "code",
      "source": [
        "valid.select('label').show(10)"
      ],
      "metadata": {
        "colab": {
          "base_uri": "https://localhost:8080/"
        },
        "id": "uRI2OJ8GtWqa",
        "outputId": "71bca192-3136-4860-8afb-ecb4e5700232"
      },
      "execution_count": null,
      "outputs": [
        {
          "output_type": "stream",
          "name": "stdout",
          "text": [
            "+-----+\n",
            "|label|\n",
            "+-----+\n",
            "|  357|\n",
            "|  238|\n",
            "|  193|\n",
            "|  545|\n",
            "|  444|\n",
            "|  437|\n",
            "|  419|\n",
            "|  415|\n",
            "|  394|\n",
            "|  379|\n",
            "+-----+\n",
            "only showing top 10 rows\n",
            "\n"
          ]
        }
      ]
    },
    {
      "cell_type": "code",
      "source": [
        "#import Desicion Tree Regressor Model & fit to the Train Dataset\n",
        "from pyspark.ml.regression import DecisionTreeRegressor\n",
        "dr = DecisionTreeRegressor(labelCol=\"label\", featuresCol=\"features\")  \n",
        "dr_model = dr.fit(trainSet)"
      ],
      "metadata": {
        "id": "Q1K1IF089Xls"
      },
      "execution_count": null,
      "outputs": []
    },
    {
      "cell_type": "code",
      "source": [
        "#import Desicion Tree Regressor Model & fit to the Train Dataset\n",
        "from pyspark.ml.regression import DecisionTreeRegressor\n",
        "dr_tunned = DecisionTreeRegressor(labelCol=\"label\", featuresCol=\"features\",maxDepth=30,minWeightFractionPerNode=0,minInstancesPerNode=1,maxBins=32,minInfoGain=0.01)  \n",
        "dr_model_tunned = dr_tunned.fit(trainSet)"
      ],
      "metadata": {
        "id": "rHwm8l6KaSeD"
      },
      "execution_count": null,
      "outputs": []
    },
    {
      "cell_type": "code",
      "source": [
        "predictions_valid = dr_model.transform(valid)\n",
        "predictions_valid_tunned = dr_model_tunned.transform(valid)"
      ],
      "metadata": {
        "id": "TxfhkNMiK1T_"
      },
      "execution_count": null,
      "outputs": []
    },
    {
      "cell_type": "code",
      "source": [
        "label_vis=transportation_df.select('label').toPandas()\n",
        "feat_vis=transportation_df.select('features').toPandas()\n"
      ],
      "metadata": {
        "id": "dNIqxfJhRn03"
      },
      "execution_count": null,
      "outputs": []
    },
    {
      "cell_type": "code",
      "source": [
        "predictions = dr_model.transform(testSet)\n",
        "predictions.show(10) \n",
        "predictions_tunned = dr_model_tunned.transform(testSet)\n",
        "predictions_tunned.show(10) "
      ],
      "metadata": {
        "colab": {
          "base_uri": "https://localhost:8080/"
        },
        "id": "R3iEhBj8QcYl",
        "outputId": "3c89c4fb-9acf-4702-f5f7-f52a04498160"
      },
      "execution_count": null,
      "outputs": [
        {
          "output_type": "stream",
          "name": "stdout",
          "text": [
            "+--------------------+-----+------------------+\n",
            "|            features|label|        prediction|\n",
            "+--------------------+-----+------------------+\n",
            "|(5,[0,2],[19.88,2...|  357| 312.4939212735625|\n",
            "|(5,[0,2],[29.2,21...|  245|241.49432807919445|\n",
            "|(5,[0,2],[39.76,2...|  181|173.28514130896727|\n",
            "|(5,[0,3],[9.32,28...|  731| 808.8022406234778|\n",
            "|(5,[0,3],[11.8,24...|  591| 465.6168386555605|\n",
            "|(5,[0,3],[11.8,32...|  610| 465.6168386555605|\n",
            "|(5,[0,3],[12.42,3...|  565| 465.6168386555605|\n",
            "|(5,[0,3],[16.77,9...|  427| 465.6168386555605|\n",
            "|(5,[0,3],[17.39,3...|  412| 465.6168386555605|\n",
            "|(5,[0,3],[18.01,9...|  388| 312.4939212735625|\n",
            "+--------------------+-----+------------------+\n",
            "only showing top 10 rows\n",
            "\n",
            "+--------------------+-----+-----------------+\n",
            "|            features|label|       prediction|\n",
            "+--------------------+-----+-----------------+\n",
            "|(5,[0,2],[19.88,2...|  357|            355.0|\n",
            "|(5,[0,2],[29.2,21...|  245|            243.0|\n",
            "|(5,[0,2],[39.76,2...|  181|180.1188675927554|\n",
            "|(5,[0,3],[9.32,28...|  731|            772.5|\n",
            "|(5,[0,3],[11.8,24...|  591|            645.0|\n",
            "|(5,[0,3],[11.8,32...|  610|            639.0|\n",
            "|(5,[0,3],[12.42,3...|  565|            544.5|\n",
            "|(5,[0,3],[16.77,9...|  427|            422.5|\n",
            "|(5,[0,3],[17.39,3...|  412|            415.0|\n",
            "|(5,[0,3],[18.01,9...|  388|            401.0|\n",
            "+--------------------+-----+-----------------+\n",
            "only showing top 10 rows\n",
            "\n"
          ]
        }
      ]
    },
    {
      "cell_type": "code",
      "source": [
        "from pyspark.ml.evaluation import RegressionEvaluator\n",
        "from pyspark.mllib.evaluation import RegressionMetrics, RankingMetrics\n",
        "rmse = RegressionEvaluator(labelCol='label',predictionCol='prediction',metricName='rmse') \n",
        "pred=predictions_valid.select('prediction').toPandas()\n",
        "label=predictions_valid.select('label').toPandas()\n",
        "pred=pred.round(2)\n",
        "pred=pred.to_numpy()\n",
        "label=label.to_numpy()\n",
        "\n",
        "pred_tunned=predictions_valid_tunned.select('prediction').toPandas()\n",
        "label_tunned=predictions_valid_tunned.select('label').toPandas()\n",
        "pred_tunned=pred_tunned.round(2)\n",
        "pred_tunned=pred_tunned.to_numpy()\n",
        "label_tunned=label_tunned.to_numpy()"
      ],
      "metadata": {
        "id": "ii1dwJt1WjPo"
      },
      "execution_count": null,
      "outputs": []
    },
    {
      "cell_type": "markdown",
      "source": [],
      "metadata": {
        "id": "b5AtGSdoWiVx"
      }
    },
    {
      "cell_type": "code",
      "source": [
        "pred_tst=predictions.select('prediction').toPandas()\n",
        "label_tst=predictions.select('label').toPandas()\n",
        "pred_tst=pred_tst.round(2)\n",
        "pred_tst=pred_tst.to_numpy()\n",
        "label_tst=label_tst.to_numpy()\n",
        "\n",
        "pred_tst_tunned=predictions_tunned.select('prediction').toPandas()\n",
        "label_tst_tunned=predictions_tunned.select('label').toPandas()\n",
        "pred_tst_tunned=pred_tst_tunned.round(2)\n",
        "pred_tst_tunned=pred_tst_tunned.to_numpy()\n",
        "label_tst_tunned=label_tst_tunned.to_numpy()"
      ],
      "metadata": {
        "id": "1PkqhWVYQRTH"
      },
      "execution_count": null,
      "outputs": []
    },
    {
      "cell_type": "code",
      "source": [
        "from sklearn import metrics\n",
        "import numpy as np\n",
        "print('Before Tunned')\n",
        "print('Test Data Error Measurements')\n",
        "print(' MAE:', metrics.mean_absolute_error(label_tst,pred_tst))\n",
        "print('RMSE:', np.sqrt(metrics.mean_squared_error(label_tst, pred_tst))) \n",
        "print(\"\")\n",
        "print('Validation Data Error Measurements')\n",
        "print('MAE:', metrics.mean_absolute_error(label,pred))\n",
        "print('RMSE:', np.sqrt(metrics.mean_squared_error(label, pred))) \n"
      ],
      "metadata": {
        "colab": {
          "base_uri": "https://localhost:8080/"
        },
        "id": "YD-2Opd9PZ7L",
        "outputId": "164004ed-09c9-4734-dfe8-67e4b644cec6"
      },
      "execution_count": null,
      "outputs": [
        {
          "output_type": "stream",
          "name": "stdout",
          "text": [
            "Before Tunned\n",
            "Test Data Error Measurements\n",
            " MAE: 20.904914616967158\n",
            "RMSE: 73.7257785654161\n",
            "\n",
            "Validation Data Error Measurements\n",
            "MAE: 20.882981096523213\n",
            "RMSE: 68.85854988334005\n"
          ]
        }
      ]
    },
    {
      "cell_type": "code",
      "source": [
        "print('After Tunned')\n",
        "print('Test Data Error Measurements')\n",
        "print(' MAE:', metrics.mean_absolute_error(label_tunned,pred_tunned))\n",
        "print('RMSE:', np.sqrt(metrics.mean_squared_error(label_tunned, pred_tunned))) \n",
        "print(\"\")\n",
        "print('Validation Data Error Measurements')\n",
        "print('MAE:', metrics.mean_absolute_error(label_tst_tunned,pred_tst_tunned))\n",
        "print('RMSE:', np.sqrt(metrics.mean_squared_error(label_tst_tunned, pred_tst_tunned))) \n"
      ],
      "metadata": {
        "colab": {
          "base_uri": "https://localhost:8080/"
        },
        "id": "KgZFjajibeAm",
        "outputId": "57657109-8a69-4bfa-8f71-fe523d80f040"
      },
      "execution_count": null,
      "outputs": [
        {
          "output_type": "stream",
          "name": "stdout",
          "text": [
            "After Tunned\n",
            "Test Data Error Measurements\n",
            " MAE: 5.4232275711159765\n",
            "RMSE: 39.03447968404535\n",
            "\n",
            "Validation Data Error Measurements\n",
            "MAE: 5.419382100473281\n",
            "RMSE: 32.793672432357155\n"
          ]
        }
      ]
    },
    {
      "cell_type": "code",
      "source": [
        "# Plot the results\n",
        "import numpy as np\n",
        "import matplotlib.pyplot as plt\n",
        "plt.figure()\n",
        "depth=['6','12','18','24','28','32']\n",
        "regr_2 = DecisionTreeRegressor(labelCol=\"label\", featuresCol=\"features\",maxDepth=6,minWeightFractionPerNode=0,minInstancesPerNode=1,minInfoGain=0.01,maxBins=6) \n",
        "regr_3 = DecisionTreeRegressor(labelCol=\"label\", featuresCol=\"features\",maxDepth=6,minWeightFractionPerNode=0,minInstancesPerNode=1,minInfoGain=0.01,maxBins=8) \n",
        "regr_4 = DecisionTreeRegressor(labelCol=\"label\", featuresCol=\"features\",maxDepth=6,minWeightFractionPerNode=0,minInstancesPerNode=1,minInfoGain=0.01,maxBins=10) \n",
        "regr_5 = DecisionTreeRegressor(labelCol=\"label\", featuresCol=\"features\",maxDepth=6,minWeightFractionPerNode=0,minInstancesPerNode=1,minInfoGain=0.01,maxBins=15) \n",
        "regr_6 = DecisionTreeRegressor(labelCol=\"label\", featuresCol=\"features\",maxDepth=6,minWeightFractionPerNode=0,minInstancesPerNode=1,minInfoGain=0.01,maxBins=24) \n",
        "regr_7 = DecisionTreeRegressor(labelCol=\"label\", featuresCol=\"features\",maxDepth=6,minWeightFractionPerNode=0,minInstancesPerNode=1,minInfoGain=0.01,maxBins=32) \n",
        "regr_2=regr_2.fit(trainSet)\n",
        "regr_3=regr_3.fit(trainSet)\n",
        "regr_4=regr_4.fit(trainSet)\n",
        "regr_5=regr_5.fit(trainSet)\n",
        "regr_6=regr_6.fit(trainSet)\n",
        "regr_7=regr_7.fit(trainSet)\n",
        "\n",
        "y2=regr_2.transform(valid)\n",
        "y2_rmse = RegressionEvaluator(labelCol='label',predictionCol='prediction',metricName='rmse')\n",
        "y2_rmse=y2_rmse.evaluate(y2)\n",
        "\n",
        "y3=regr_3.transform(valid)\n",
        "y3_rmse= RegressionEvaluator(labelCol='label',predictionCol='prediction',metricName='rmse')\n",
        "y3_rmse=y3_rmse.evaluate(y3)\n",
        "\n",
        "y4=regr_4.transform(valid)\n",
        "y4_rmse=RegressionEvaluator(labelCol='label',predictionCol='prediction',metricName='rmse')\n",
        "y4_rmse=y4_rmse.evaluate(y4)\n",
        "\n",
        "y5=regr_5.transform(valid)\n",
        "y5_rmse=RegressionEvaluator(labelCol='label',predictionCol='prediction',metricName='rmse')\n",
        "y5_rmse=y5_rmse.evaluate(y5)\n",
        "\n",
        "y6=regr_6.transform(valid)\n",
        "y6_rmse=RegressionEvaluator(labelCol='label',predictionCol='prediction',metricName='rmse')\n",
        "y6_rmse=y6_rmse.evaluate(y6)\n",
        "\n",
        "y7=regr_7.transform(valid)\n",
        "y7_rmse=RegressionEvaluator(labelCol='label',predictionCol='prediction',metricName='rmse')\n",
        "y7_rmse=y7_rmse.evaluate(y7)\n",
        "\n",
        "rsme=[y2_rmse,y3_rmse,y4_rmse,y5_rmse,y6_rmse,y7_rmse]\n",
        "plt.figure()\n",
        "plt.plot( depth,rsme, color=\"cornflowerblue\", label=\"Max_bin\", linewidth=2)\n",
        "\n",
        "plt.xlabel(\"Max_bin\")\n",
        "plt.ylabel(\"RSEM\")\n",
        "plt.title(\"Decision Tree Regression\")\n",
        "plt.legend()\n",
        "plt.show()"
      ],
      "metadata": {
        "colab": {
          "base_uri": "https://localhost:8080/",
          "height": 314
        },
        "id": "2VnSE5QhsXSx",
        "outputId": "7b042a41-d8e2-4b77-a5df-0ed5a228e2fd"
      },
      "execution_count": null,
      "outputs": [
        {
          "output_type": "display_data",
          "data": {
            "text/plain": [
              "<Figure size 432x288 with 0 Axes>"
            ]
          },
          "metadata": {}
        },
        {
          "output_type": "display_data",
          "data": {
            "text/plain": [
              "<Figure size 432x288 with 1 Axes>"
            ],
            "image/png": "[encoded data removed]"
          },
          "metadata": {
            "needs_background": "light"
          }
        }
      ]
    },
    {
      "cell_type": "code",
      "source": [
        "from pyspark.ml.regression import LinearRegression\n",
        "lr=LinearRegression(labelCol=\"label\", featuresCol=\"features\",predictionCol='prediction') \n",
        "lr_model = lr.fit(trainSet)\n",
        "prediction = lr_model.transform(valid)\n",
        "prediction.select('label','prediction').show(10)\n",
        "#lrModel = (featuresCol = 'features', labelCol='label')"
      ],
      "metadata": {
        "colab": {
          "base_uri": "https://localhost:8080/"
        },
        "id": "Y5TfVDT6BORi",
        "outputId": "7384df5a-6ad1-4fe6-d7b5-744e64b99320"
      },
      "execution_count": null,
      "outputs": [
        {
          "output_type": "stream",
          "name": "stdout",
          "text": [
            "+-----+------------------+\n",
            "|label|        prediction|\n",
            "+-----+------------------+\n",
            "|  201| 217.4365928988505|\n",
            "|  591| 394.3836206042819|\n",
            "|  567|  390.524816278452|\n",
            "|  545| 384.6156884760044|\n",
            "|  425| 355.6081592861902|\n",
            "|  417| 356.5867227636669|\n",
            "|  383| 343.2096552437457|\n",
            "|  355| 332.7427492029849|\n",
            "|  345| 327.7655866171816|\n",
            "|  349|328.04517618217494|\n",
            "+-----+------------------+\n",
            "only showing top 10 rows\n",
            "\n"
          ]
        }
      ]
    },
    {
      "cell_type": "code",
      "source": [
        "trainSet.show(5)"
      ],
      "metadata": {
        "colab": {
          "base_uri": "https://localhost:8080/"
        },
        "id": "vnt6ViwQrmsH",
        "outputId": "07d28ca5-c61c-456a-81dc-7b886ad1154b"
      },
      "execution_count": null,
      "outputs": [
        {
          "output_type": "stream",
          "name": "stdout",
          "text": [
            "+--------------------+-----+\n",
            "|            features|label|\n",
            "+--------------------+-----+\n",
            "|(5,[0,2],[9.32,21...|  763|\n",
            "|(5,[0,2],[13.04,2...|  542|\n",
            "|(5,[0,2],[17.39,2...|  412|\n",
            "|(5,[0,2],[18.01,1...|  401|\n",
            "|(5,[0,2],[18.64,2...|  385|\n",
            "+--------------------+-----+\n",
            "only showing top 5 rows\n",
            "\n"
          ]
        }
      ]
    },
    {
      "cell_type": "code",
      "source": [
        "pred=prediction.select('prediction').toPandas()\n",
        "label=prediction.select('label').toPandas()\n",
        "pred=pred.to_numpy()\n",
        "label=label.to_numpy()\n",
        "print('MAE:', metrics.mean_absolute_error(label,pred))\n",
        "print('RMSE:', np.sqrt(metrics.mean_squared_error(label, pred)))"
      ],
      "metadata": {
        "colab": {
          "base_uri": "https://localhost:8080/"
        },
        "id": "nJX5hyTJNsP0",
        "outputId": "78bf26c7-aacd-4dbb-fc65-89a27a18cefb"
      },
      "execution_count": null,
      "outputs": [
        {
          "output_type": "stream",
          "name": "stdout",
          "text": [
            "MAE: 75.51089393134326\n",
            "RMSE: 196.64601939396536\n"
          ]
        }
      ]
    },
    {
      "cell_type": "code",
      "source": [
        "from pyspark.ml.regression import GBTRegressor\n",
        "gf = GBTRegressor(labelCol=\"label\",featuresCol=\"features\",minInstancesPerNode=1,maxIter=200,subsamplingRate=1,maxDepth=15,stepSize=0.1,minWeightFractionPerNode =0.0001) \n",
        "gf_model = gf.fit(trainSet)\n",
        "predictions = gf_model.transform(valid)\n",
        "predictions.select('label','prediction').show(10)\n",
        "\n",
        "from pyspark.ml.evaluation import RegressionEvaluator\n",
        "from pyspark.mllib.evaluation import RegressionMetrics, RankingMetrics\n",
        "rmse = RegressionEvaluator(labelCol='label',predictionCol='prediction',metricName='rmse') \n"
      ],
      "metadata": {
        "id": "1T4rT6KQl_Ub",
        "colab": {
          "base_uri": "https://localhost:8080/",
          "height": 622
        },
        "outputId": "633f8721-c09a-48fd-a04b-87569ade73ea"
      },
      "execution_count": null,
      "outputs": [
        {
          "output_type": "stream",
          "name": "stderr",
          "text": [
            "ERROR:root:KeyboardInterrupt while sending command.\n",
            "Traceback (most recent call last):\n",
            "  File \"/usr/local/lib/python3.8/dist-packages/py4j/java_gateway.py\", line 1038, in send_command\n",
            "    response = connection.send_command(command)\n",
            "  File \"/usr/local/lib/python3.8/dist-packages/py4j/clientserver.py\", line 511, in send_command\n",
            "    answer = smart_decode(self.stream.readline()[:-1])\n",
            "  File \"/usr/lib/python3.8/socket.py\", line 669, in readinto\n",
            "    return self._sock.recv_into(b)\n",
            "KeyboardInterrupt\n"
          ]
        },
        {
          "output_type": "error",
          "ename": "KeyboardInterrupt",
          "evalue": "ignored",
          "traceback": [
            "\u001b[0;31m---------------------------------------------------------------------------\u001b[0m",
            "\u001b[0;31mKeyboardInterrupt\u001b[0m                         Traceback (most recent call last)",
            "\u001b[0;32m<ipython-input-60-e3251898c555>\u001b[0m in \u001b[0;36m<module>\u001b[0;34m\u001b[0m\n\u001b[1;32m      1\u001b[0m \u001b[0;32mfrom\u001b[0m \u001b[0mpyspark\u001b[0m\u001b[0;34m.\u001b[0m\u001b[0mml\u001b[0m\u001b[0;34m.\u001b[0m\u001b[0mregression\u001b[0m \u001b[0;32mimport\u001b[0m \u001b[0mGBTRegressor\u001b[0m\u001b[0;34m\u001b[0m\u001b[0;34m\u001b[0m\u001b[0m\n\u001b[1;32m      2\u001b[0m \u001b[0mgf\u001b[0m \u001b[0;34m=\u001b[0m \u001b[0mGBTRegressor\u001b[0m\u001b[0;34m(\u001b[0m\u001b[0mlabelCol\u001b[0m\u001b[0;34m=\u001b[0m\u001b[0;34m\"label\"\u001b[0m\u001b[0;34m,\u001b[0m\u001b[0mfeaturesCol\u001b[0m\u001b[0;34m=\u001b[0m\u001b[0;34m\"features\"\u001b[0m\u001b[0;34m,\u001b[0m\u001b[0mminInstancesPerNode\u001b[0m\u001b[0;34m=\u001b[0m\u001b[0;36m1\u001b[0m\u001b[0;34m,\u001b[0m\u001b[0mmaxIter\u001b[0m\u001b[0;34m=\u001b[0m\u001b[0;36m200\u001b[0m\u001b[0;34m,\u001b[0m\u001b[0msubsamplingRate\u001b[0m\u001b[0;34m=\u001b[0m\u001b[0;36m1\u001b[0m\u001b[0;34m,\u001b[0m\u001b[0mmaxDepth\u001b[0m\u001b[0;34m=\u001b[0m\u001b[0;36m15\u001b[0m\u001b[0;34m,\u001b[0m\u001b[0mstepSize\u001b[0m\u001b[0;34m=\u001b[0m\u001b[0;36m0.1\u001b[0m\u001b[0;34m,\u001b[0m\u001b[0mminWeightFractionPerNode\u001b[0m \u001b[0;34m=\u001b[0m\u001b[0;36m0.0001\u001b[0m\u001b[0;34m)\u001b[0m\u001b[0;34m\u001b[0m\u001b[0;34m\u001b[0m\u001b[0m\n\u001b[0;32m----> 3\u001b[0;31m \u001b[0mgf_model\u001b[0m \u001b[0;34m=\u001b[0m \u001b[0mgf\u001b[0m\u001b[0;34m.\u001b[0m\u001b[0mfit\u001b[0m\u001b[0;34m(\u001b[0m\u001b[0mtrainSet\u001b[0m\u001b[0;34m)\u001b[0m\u001b[0;34m\u001b[0m\u001b[0;34m\u001b[0m\u001b[0m\n\u001b[0m\u001b[1;32m      4\u001b[0m \u001b[0mpredictions\u001b[0m \u001b[0;34m=\u001b[0m \u001b[0mgf_model\u001b[0m\u001b[0;34m.\u001b[0m\u001b[0mtransform\u001b[0m\u001b[0;34m(\u001b[0m\u001b[0mvalid\u001b[0m\u001b[0;34m)\u001b[0m\u001b[0;34m\u001b[0m\u001b[0;34m\u001b[0m\u001b[0m\n\u001b[1;32m      5\u001b[0m \u001b[0mpredictions\u001b[0m\u001b[0;34m.\u001b[0m\u001b[0mselect\u001b[0m\u001b[0;34m(\u001b[0m\u001b[0;34m'label'\u001b[0m\u001b[0;34m,\u001b[0m\u001b[0;34m'prediction'\u001b[0m\u001b[0;34m)\u001b[0m\u001b[0;34m.\u001b[0m\u001b[0mshow\u001b[0m\u001b[0;34m(\u001b[0m\u001b[0;36m10\u001b[0m\u001b[0;34m)\u001b[0m\u001b[0;34m\u001b[0m\u001b[0;34m\u001b[0m\u001b[0m\n",
            "\u001b[0;32m/usr/local/lib/python3.8/dist-packages/pyspark/ml/base.py\u001b[0m in \u001b[0;36mfit\u001b[0;34m(self, dataset, params)\u001b[0m\n\u001b[1;32m    203\u001b[0m                 \u001b[0;32mreturn\u001b[0m \u001b[0mself\u001b[0m\u001b[0;34m.\u001b[0m\u001b[0mcopy\u001b[0m\u001b[0;34m(\u001b[0m\u001b[0mparams\u001b[0m\u001b[0;34m)\u001b[0m\u001b[0;34m.\u001b[0m\u001b[0m_fit\u001b[0m\u001b[0;34m(\u001b[0m\u001b[0mdataset\u001b[0m\u001b[0;34m)\u001b[0m\u001b[0;34m\u001b[0m\u001b[0;34m\u001b[0m\u001b[0m\n\u001b[1;32m    204\u001b[0m             \u001b[0;32melse\u001b[0m\u001b[0;34m:\u001b[0m\u001b[0;34m\u001b[0m\u001b[0;34m\u001b[0m\u001b[0m\n\u001b[0;32m--> 205\u001b[0;31m                 \u001b[0;32mreturn\u001b[0m \u001b[0mself\u001b[0m\u001b[0;34m.\u001b[0m\u001b[0m_fit\u001b[0m\u001b[0;34m(\u001b[0m\u001b[0mdataset\u001b[0m\u001b[0;34m)\u001b[0m\u001b[0;34m\u001b[0m\u001b[0;34m\u001b[0m\u001b[0m\n\u001b[0m\u001b[1;32m    206\u001b[0m         \u001b[0;32melse\u001b[0m\u001b[0;34m:\u001b[0m\u001b[0;34m\u001b[0m\u001b[0;34m\u001b[0m\u001b[0m\n\u001b[1;32m    207\u001b[0m             raise TypeError(\n",
            "\u001b[0;32m/usr/local/lib/python3.8/dist-packages/pyspark/ml/wrapper.py\u001b[0m in \u001b[0;36m_fit\u001b[0;34m(self, dataset)\u001b[0m\n\u001b[1;32m    381\u001b[0m \u001b[0;34m\u001b[0m\u001b[0m\n\u001b[1;32m    382\u001b[0m     \u001b[0;32mdef\u001b[0m \u001b[0m_fit\u001b[0m\u001b[0;34m(\u001b[0m\u001b[0mself\u001b[0m\u001b[0;34m,\u001b[0m \u001b[0mdataset\u001b[0m\u001b[0;34m:\u001b[0m \u001b[0mDataFrame\u001b[0m\u001b[0;34m)\u001b[0m \u001b[0;34m->\u001b[0m \u001b[0mJM\u001b[0m\u001b[0;34m:\u001b[0m\u001b[0;34m\u001b[0m\u001b[0;34m\u001b[0m\u001b[0m\n\u001b[0;32m--> 383\u001b[0;31m         \u001b[0mjava_model\u001b[0m \u001b[0;34m=\u001b[0m \u001b[0mself\u001b[0m\u001b[0;34m.\u001b[0m\u001b[0m_fit_java\u001b[0m\u001b[0;34m(\u001b[0m\u001b[0mdataset\u001b[0m\u001b[0;34m)\u001b[0m\u001b[0;34m\u001b[0m\u001b[0;34m\u001b[0m\u001b[0m\n\u001b[0m\u001b[1;32m    384\u001b[0m         \u001b[0mmodel\u001b[0m \u001b[0;34m=\u001b[0m \u001b[0mself\u001b[0m\u001b[0;34m.\u001b[0m\u001b[0m_create_model\u001b[0m\u001b[0;34m(\u001b[0m\u001b[0mjava_model\u001b[0m\u001b[0;34m)\u001b[0m\u001b[0;34m\u001b[0m\u001b[0;34m\u001b[0m\u001b[0m\n\u001b[1;32m    385\u001b[0m         \u001b[0;32mreturn\u001b[0m \u001b[0mself\u001b[0m\u001b[0;34m.\u001b[0m\u001b[0m_copyValues\u001b[0m\u001b[0;34m(\u001b[0m\u001b[0mmodel\u001b[0m\u001b[0;34m)\u001b[0m\u001b[0;34m\u001b[0m\u001b[0;34m\u001b[0m\u001b[0m\n",
            "\u001b[0;32m/usr/local/lib/python3.8/dist-packages/pyspark/ml/wrapper.py\u001b[0m in \u001b[0;36m_fit_java\u001b[0;34m(self, dataset)\u001b[0m\n\u001b[1;32m    378\u001b[0m \u001b[0;34m\u001b[0m\u001b[0m\n\u001b[1;32m    379\u001b[0m         \u001b[0mself\u001b[0m\u001b[0;34m.\u001b[0m\u001b[0m_transfer_params_to_java\u001b[0m\u001b[0;34m(\u001b[0m\u001b[0;34m)\u001b[0m\u001b[0;34m\u001b[0m\u001b[0;34m\u001b[0m\u001b[0m\n\u001b[0;32m--> 380\u001b[0;31m         \u001b[0;32mreturn\u001b[0m \u001b[0mself\u001b[0m\u001b[0;34m.\u001b[0m\u001b[0m_java_obj\u001b[0m\u001b[0;34m.\u001b[0m\u001b[0mfit\u001b[0m\u001b[0;34m(\u001b[0m\u001b[0mdataset\u001b[0m\u001b[0;34m.\u001b[0m\u001b[0m_jdf\u001b[0m\u001b[0;34m)\u001b[0m\u001b[0;34m\u001b[0m\u001b[0;34m\u001b[0m\u001b[0m\n\u001b[0m\u001b[1;32m    381\u001b[0m \u001b[0;34m\u001b[0m\u001b[0m\n\u001b[1;32m    382\u001b[0m     \u001b[0;32mdef\u001b[0m \u001b[0m_fit\u001b[0m\u001b[0;34m(\u001b[0m\u001b[0mself\u001b[0m\u001b[0;34m,\u001b[0m \u001b[0mdataset\u001b[0m\u001b[0;34m:\u001b[0m \u001b[0mDataFrame\u001b[0m\u001b[0;34m)\u001b[0m \u001b[0;34m->\u001b[0m \u001b[0mJM\u001b[0m\u001b[0;34m:\u001b[0m\u001b[0;34m\u001b[0m\u001b[0;34m\u001b[0m\u001b[0m\n",
            "\u001b[0;32m/usr/local/lib/python3.8/dist-packages/py4j/java_gateway.py\u001b[0m in \u001b[0;36m__call__\u001b[0;34m(self, *args)\u001b[0m\n\u001b[1;32m   1318\u001b[0m             \u001b[0mproto\u001b[0m\u001b[0;34m.\u001b[0m\u001b[0mEND_COMMAND_PART\u001b[0m\u001b[0;34m\u001b[0m\u001b[0;34m\u001b[0m\u001b[0m\n\u001b[1;32m   1319\u001b[0m \u001b[0;34m\u001b[0m\u001b[0m\n\u001b[0;32m-> 1320\u001b[0;31m         \u001b[0manswer\u001b[0m \u001b[0;34m=\u001b[0m \u001b[0mself\u001b[0m\u001b[0;34m.\u001b[0m\u001b[0mgateway_client\u001b[0m\u001b[0;34m.\u001b[0m\u001b[0msend_command\u001b[0m\u001b[0;34m(\u001b[0m\u001b[0mcommand\u001b[0m\u001b[0;34m)\u001b[0m\u001b[0;34m\u001b[0m\u001b[0;34m\u001b[0m\u001b[0m\n\u001b[0m\u001b[1;32m   1321\u001b[0m         return_value = get_return_value(\n\u001b[1;32m   1322\u001b[0m             answer, self.gateway_client, self.target_id, self.name)\n",
            "\u001b[0;32m/usr/local/lib/python3.8/dist-packages/py4j/java_gateway.py\u001b[0m in \u001b[0;36msend_command\u001b[0;34m(self, command, retry, binary)\u001b[0m\n\u001b[1;32m   1036\u001b[0m         \u001b[0mconnection\u001b[0m \u001b[0;34m=\u001b[0m \u001b[0mself\u001b[0m\u001b[0;34m.\u001b[0m\u001b[0m_get_connection\u001b[0m\u001b[0;34m(\u001b[0m\u001b[0;34m)\u001b[0m\u001b[0;34m\u001b[0m\u001b[0;34m\u001b[0m\u001b[0m\n\u001b[1;32m   1037\u001b[0m         \u001b[0;32mtry\u001b[0m\u001b[0;34m:\u001b[0m\u001b[0;34m\u001b[0m\u001b[0;34m\u001b[0m\u001b[0m\n\u001b[0;32m-> 1038\u001b[0;31m             \u001b[0mresponse\u001b[0m \u001b[0;34m=\u001b[0m \u001b[0mconnection\u001b[0m\u001b[0;34m.\u001b[0m\u001b[0msend_command\u001b[0m\u001b[0;34m(\u001b[0m\u001b[0mcommand\u001b[0m\u001b[0;34m)\u001b[0m\u001b[0;34m\u001b[0m\u001b[0;34m\u001b[0m\u001b[0m\n\u001b[0m\u001b[1;32m   1039\u001b[0m             \u001b[0;32mif\u001b[0m \u001b[0mbinary\u001b[0m\u001b[0;34m:\u001b[0m\u001b[0;34m\u001b[0m\u001b[0;34m\u001b[0m\u001b[0m\n\u001b[1;32m   1040\u001b[0m                 \u001b[0;32mreturn\u001b[0m \u001b[0mresponse\u001b[0m\u001b[0;34m,\u001b[0m \u001b[0mself\u001b[0m\u001b[0;34m.\u001b[0m\u001b[0m_create_connection_guard\u001b[0m\u001b[0;34m(\u001b[0m\u001b[0mconnection\u001b[0m\u001b[0;34m)\u001b[0m\u001b[0;34m\u001b[0m\u001b[0;34m\u001b[0m\u001b[0m\n",
            "\u001b[0;32m/usr/local/lib/python3.8/dist-packages/py4j/clientserver.py\u001b[0m in \u001b[0;36msend_command\u001b[0;34m(self, command)\u001b[0m\n\u001b[1;32m    509\u001b[0m         \u001b[0;32mtry\u001b[0m\u001b[0;34m:\u001b[0m\u001b[0;34m\u001b[0m\u001b[0;34m\u001b[0m\u001b[0m\n\u001b[1;32m    510\u001b[0m             \u001b[0;32mwhile\u001b[0m \u001b[0;32mTrue\u001b[0m\u001b[0;34m:\u001b[0m\u001b[0;34m\u001b[0m\u001b[0;34m\u001b[0m\u001b[0m\n\u001b[0;32m--> 511\u001b[0;31m                 \u001b[0manswer\u001b[0m \u001b[0;34m=\u001b[0m \u001b[0msmart_decode\u001b[0m\u001b[0;34m(\u001b[0m\u001b[0mself\u001b[0m\u001b[0;34m.\u001b[0m\u001b[0mstream\u001b[0m\u001b[0;34m.\u001b[0m\u001b[0mreadline\u001b[0m\u001b[0;34m(\u001b[0m\u001b[0;34m)\u001b[0m\u001b[0;34m[\u001b[0m\u001b[0;34m:\u001b[0m\u001b[0;34m-\u001b[0m\u001b[0;36m1\u001b[0m\u001b[0;34m]\u001b[0m\u001b[0;34m)\u001b[0m\u001b[0;34m\u001b[0m\u001b[0;34m\u001b[0m\u001b[0m\n\u001b[0m\u001b[1;32m    512\u001b[0m                 \u001b[0mlogger\u001b[0m\u001b[0;34m.\u001b[0m\u001b[0mdebug\u001b[0m\u001b[0;34m(\u001b[0m\u001b[0;34m\"Answer received: {0}\"\u001b[0m\u001b[0;34m.\u001b[0m\u001b[0mformat\u001b[0m\u001b[0;34m(\u001b[0m\u001b[0manswer\u001b[0m\u001b[0;34m)\u001b[0m\u001b[0;34m)\u001b[0m\u001b[0;34m\u001b[0m\u001b[0;34m\u001b[0m\u001b[0m\n\u001b[1;32m    513\u001b[0m                 \u001b[0;31m# Happens when a the other end is dead. There might be an empty\u001b[0m\u001b[0;34m\u001b[0m\u001b[0;34m\u001b[0m\u001b[0;34m\u001b[0m\u001b[0m\n",
            "\u001b[0;32m/usr/lib/python3.8/socket.py\u001b[0m in \u001b[0;36mreadinto\u001b[0;34m(self, b)\u001b[0m\n\u001b[1;32m    667\u001b[0m         \u001b[0;32mwhile\u001b[0m \u001b[0;32mTrue\u001b[0m\u001b[0;34m:\u001b[0m\u001b[0;34m\u001b[0m\u001b[0;34m\u001b[0m\u001b[0m\n\u001b[1;32m    668\u001b[0m             \u001b[0;32mtry\u001b[0m\u001b[0;34m:\u001b[0m\u001b[0;34m\u001b[0m\u001b[0;34m\u001b[0m\u001b[0m\n\u001b[0;32m--> 669\u001b[0;31m                 \u001b[0;32mreturn\u001b[0m \u001b[0mself\u001b[0m\u001b[0;34m.\u001b[0m\u001b[0m_sock\u001b[0m\u001b[0;34m.\u001b[0m\u001b[0mrecv_into\u001b[0m\u001b[0;34m(\u001b[0m\u001b[0mb\u001b[0m\u001b[0;34m)\u001b[0m\u001b[0;34m\u001b[0m\u001b[0;34m\u001b[0m\u001b[0m\n\u001b[0m\u001b[1;32m    670\u001b[0m             \u001b[0;32mexcept\u001b[0m \u001b[0mtimeout\u001b[0m\u001b[0;34m:\u001b[0m\u001b[0;34m\u001b[0m\u001b[0;34m\u001b[0m\u001b[0m\n\u001b[1;32m    671\u001b[0m                 \u001b[0mself\u001b[0m\u001b[0;34m.\u001b[0m\u001b[0m_timeout_occurred\u001b[0m \u001b[0;34m=\u001b[0m \u001b[0;32mTrue\u001b[0m\u001b[0;34m\u001b[0m\u001b[0;34m\u001b[0m\u001b[0m\n",
            "\u001b[0;31mKeyboardInterrupt\u001b[0m: "
          ]
        }
      ]
    },
    {
      "cell_type": "code",
      "source": [
        "pred_gbt_test=predictions.select('prediction').toPandas()\n",
        "label_tst_tunned=predictions.select('label').toPandas()\n",
        "pred_gbt_test=pred_tst_tunned.round(2)\n",
        "pred_gbt_test=pred_tst_tunned.to_numpy()\n",
        "label_tst_tunned=label_tst_tunned.to_numpy()"
      ],
      "metadata": {
        "id": "CnhEv29zsJGU"
      },
      "execution_count": null,
      "outputs": []
    },
    {
      "cell_type": "code",
      "source": [
        "print('MAE:', metrics.mean_absolute_error(y_test,pred_gbt_test))\n",
        "print('RMSE:', np.sqrt(metrics.mean_squared_error(y_test, pred_gbt_test)))  \n",
        "print('MAPE',np.mean(np.abs((pred_gbt_test - y_test)/pred_gbt_test))*100)\n",
        "\n"
      ],
      "metadata": {
        "colab": {
          "base_uri": "https://localhost:8080/"
        },
        "id": "wETaghO7p4U6",
        "outputId": "9620f2ce-47bb-4165-ea1c-92e83e1b78b5"
      },
      "execution_count": null,
      "outputs": [
        {
          "output_type": "stream",
          "name": "stdout",
          "text": [
            "MAE: 2.956309186722893\n",
            "RMSE: 17.00582738446551\n",
            "MAPE 4.755616431042562\n"
          ]
        }
      ]
    },
    {
      "cell_type": "code",
      "source": [
        "from pyspark.ml.regression import GBTRegressor\n",
        "gf = GBTRegressor(labelCol=\"label\",featuresCol=\"features\") \n",
        "gf_model = gf.fit(trainSet)"
      ],
      "metadata": {
        "id": "cSCFv1yGQrTS"
      },
      "execution_count": null,
      "outputs": []
    },
    {
      "cell_type": "code",
      "source": [
        "from pyspark.ml.tuning import CrossValidator, ParamGridBuilder\n"
      ],
      "metadata": {
        "id": "T8ePRjl1SfF2"
      },
      "execution_count": null,
      "outputs": []
    },
    {
      "cell_type": "code",
      "source": [
        "from pyspark.ml import Pipeline\n",
        "pipeline = Pipeline(stages=[dr])\n",
        "pipeline.write().overwrite().save('pipeline')\n",
        "pipelineModel = Pipeline.load('pipeline')"
      ],
      "metadata": {
        "id": "_IVY3LfoVSG2"
      },
      "execution_count": null,
      "outputs": []
    },
    {
      "cell_type": "code",
      "source": [
        "# Define all the hyper parameters and provide the list of values to test the model's performance\n",
        "paramGrid = ParamGridBuilder().addGrid(dr_model.maxDepth, [6,3,4]).addGrid(dr_model.minInstancesPerNode, [1,2]).addGrid(dr_model.maxBins, [32,100]).addGrid(dr_model.minWeightFractionPerNode, [0,0.0001,0.1]).build()\n",
        "# \n",
        "tvs = CrossValidator(estimator=pipelineModel,estimatorParamMaps=paramGrid,evaluator=RegressionEvaluator(),numFolds=2)  \n",
        "# Run TrainValidationSplit, and choose the best set of parameters.\n",
        "model = tvs.fit(transportation_df)"
      ],
      "metadata": {
        "id": "KruryRWAmLFK"
      },
      "execution_count": null,
      "outputs": []
    },
    {
      "cell_type": "code",
      "source": [
        "# Check the perfromance metrics(RMSE) of all the models \n",
        "model.avgMetrics"
      ],
      "metadata": {
        "colab": {
          "base_uri": "https://localhost:8080/"
        },
        "id": "RZ9HJyhYZUya",
        "outputId": "ca198631-9156-406f-e398-6439f83d2b39"
      },
      "execution_count": null,
      "outputs": [
        {
          "output_type": "execute_result",
          "data": {
            "text/plain": [
              "[83.67557417955037,\n",
              " 83.64027041726268,\n",
              " 189.3235417563783,\n",
              " 43.63105201612619,\n",
              " 44.74204325294191,\n",
              " 189.26763023843097,\n",
              " 83.67557417955037,\n",
              " 83.64027041726268,\n",
              " 189.3235417563783,\n",
              " 43.63105201612619,\n",
              " 44.74204325294191,\n",
              " 189.26763023843097,\n",
              " 106.64633550263558,\n",
              " 106.64633550263558,\n",
              " 189.33846135563175,\n",
              " 106.6893146067874,\n",
              " 106.6893146067874,\n",
              " 189.28345509400455,\n",
              " 106.64633550263558,\n",
              " 106.64633550263558,\n",
              " 189.33846135563175,\n",
              " 106.6893146067874,\n",
              " 106.6893146067874,\n",
              " 189.28345509400455,\n",
              " 91.53041556583361,\n",
              " 91.53041556583361,\n",
              " 189.3235417563783,\n",
              " 73.18788319265579,\n",
              " 73.18788319265579,\n",
              " 189.26763023843097,\n",
              " 91.53041556583361,\n",
              " 91.53041556583361,\n",
              " 189.3235417563783,\n",
              " 73.18788319265579,\n",
              " 73.18788319265579,\n",
              " 189.26763023843097]"
            ]
          },
          "metadata": {},
          "execution_count": 351
        }
      ]
    },
    {
      "cell_type": "code",
      "source": [
        "# Extract paramater values of best performing Model (least RMSE value)\n",
        "model.getEstimatorParamMaps()[ np.argmin(model.avgMetrics) ]"
      ],
      "metadata": {
        "colab": {
          "base_uri": "https://localhost:8080/"
        },
        "id": "PlJUyHJIsfdw",
        "outputId": "4a60e221-1184-4239-e6df-53803d957271"
      },
      "execution_count": null,
      "outputs": [
        {
          "output_type": "execute_result",
          "data": {
            "text/plain": [
              "{Param(parent='DecisionTreeRegressor_824772fb6afa', name='maxDepth', doc='Maximum depth of the tree. (>= 0) E.g., depth 0 means 1 leaf node; depth 1 means 1 internal node + 2 leaf nodes. Must be in range [0, 30].'): 6,\n",
              " Param(parent='DecisionTreeRegressor_824772fb6afa', name='minInstancesPerNode', doc='Minimum number of instances each child must have after split. If a split causes the left or right child to have fewer than minInstancesPerNode, the split will be discarded as invalid. Should be >= 1.'): 1,\n",
              " Param(parent='DecisionTreeRegressor_824772fb6afa', name='minWeightFractionPerNode', doc='Minimum fraction of the weighted sample count that each child must have after split. If a split causes the fraction of the total weight in the left or right child to be less than minWeightFractionPerNode, the split will be discarded as invalid. Should be in interval [0.0, 0.5).'): 0.0,\n",
              " Param(parent='DecisionTreeRegressor_824772fb6afa', name='maxBins', doc='Max number of bins for discretizing continuous features.  Must be >=2 and >= number of categories for any categorical feature.'): 32,\n",
              " Param(parent='DecisionTreeRegressor_824772fb6afa', name='minInfoGain', doc='Minimum information gain for a split to be considered at a tree node.'): 0.01}"
            ]
          },
          "metadata": {},
          "execution_count": 155
        }
      ]
    },
    {
      "cell_type": "code",
      "source": [
        "from pyspark.ml import Pipeline\n",
        "pipeline = Pipeline(stages=[gf])\n",
        "pipeline.write().overwrite().save('pipeline') \n",
        "pipelineModel = Pipeline.load('pipeline')\n"
      ],
      "metadata": {
        "id": "K2AQvqY3eDqV"
      },
      "execution_count": null,
      "outputs": []
    },
    {
      "cell_type": "code",
      "source": [
        "pipelineModel"
      ],
      "metadata": {
        "colab": {
          "base_uri": "https://localhost:8080/"
        },
        "id": "dQnUEX1WYwob",
        "outputId": "c0a64eeb-6342-403a-dcd3-2fa0ba585b0d"
      },
      "execution_count": null,
      "outputs": [
        {
          "output_type": "execute_result",
          "data": {
            "text/plain": [
              "Pipeline_83da666e942a"
            ]
          },
          "metadata": {},
          "execution_count": 31
        }
      ]
    },
    {
      "cell_type": "code",
      "source": [],
      "metadata": {
        "id": "sHgxI6SmY4YC"
      },
      "execution_count": null,
      "outputs": []
    },
    {
      "cell_type": "code",
      "source": [
        "paramGridx = ParamGridBuilder().addGrid(gf_model.minInstancesPerNode, [1,2]).addGrid(gf_model.subsamplingRate, [0.1,0.01]).addGrid(gf_model.maxIter, [10,50,100,200]).addGrid(gf_model.minInfoGain, [0.01,0.1,0.5,0.2]).build()\n",
        "# In this case the estimator is simply the linear regression.\n",
        "# A TrainValidationSplit requires an Estimator, a set of Estimator ParamMaps, and an Evaluator.\n",
        "tvs_lr = CrossValidator(estimator=pipelineModel,estimatorParamMaps=paramGridx,evaluator=RegressionEvaluator(),numFolds=2)\n",
        "# Run TrainValidationSplit, and choose the best set of parameters.\n",
        "model_lr = tvs_lr.fit(trainSet)"
      ],
      "metadata": {
        "id": "LxANHf2xYvtp"
      },
      "execution_count": null,
      "outputs": []
    },
    {
      "cell_type": "code",
      "source": [
        "model_lr.avgMetrics"
      ],
      "metadata": {
        "colab": {
          "base_uri": "https://localhost:8080/"
        },
        "id": "MCmnf-I_r61p",
        "outputId": "0e715773-b5be-4674-f8fd-e9ba6cedbaf2"
      },
      "execution_count": null,
      "outputs": [
        {
          "output_type": "stream",
          "name": "stdout",
          "text": [
            "[\n",
            "35.41625402618834\n",
            "41.87965369376272\n",
            "49.81532818435485\n",
            "37.18914138132543\n",
            "29.52503295845031\n",
            "22.04618412364564\n",
            "55.46871903685934\n",
            "50.94183476182967\n",
            "51.01247616813498\n",
            "34.67189137958426\n",
            "27.78126975131472\n",
            "17.18456138795134\n",
            "19.17561389468651\n",
            "20.95281647132583\n",
            "16.27115838319457\n",
            "14.8694175855396\n",
            "12.697190529189633\n",
            "18.31874048236473\n",
            "]\n"
          ]
        }
      ]
    },
    {
      "cell_type": "code",
      "source": [
        "model_lr.getEstimatorParamMaps()[ np.argmin(model_lr.avgMetrics) ]\n"
      ],
      "metadata": {
        "colab": {
          "base_uri": "https://localhost:8080/"
        },
        "id": "wdGP895TsC3e",
        "outputId": "f6a630c6-46d4-4ef6-de1c-b02c64bf1ab7"
      },
      "execution_count": null,
      "outputs": [
        {
          "output_type": "execute_result",
          "data": {
            "text/plain": [
              "{Param(parent='GBTRegressor_6cc4b5687350', name='minInstancesPerNode', doc='Minimum number of instances each child must have after split. If a split causes the left or right child to have fewer than minInstancesPerNode, the split will be discarded as invalid. Should be >= 1.'): 1,\n",
              " Param(parent='GBTRegressor_6cc4b5687350', name='subsamplingRate', doc='Fraction of the training data used for learning each decision tree, in range (0, 1].'): 1.0,\n",
              " Param(parent='GBTRegressor_6cc4b5687350', name='maxIter', doc='max number of iterations (>= 0).'): 200}"
            ]
          },
          "metadata": {},
          "execution_count": 164
        }
      ]
    },
    {
      "cell_type": "code",
      "source": [
        "from pyspark.ml.evaluation import RegressionEvaluator\n"
      ],
      "metadata": {
        "id": "WekZFwersAO5"
      },
      "execution_count": null,
      "outputs": []
    },
    {
      "cell_type": "code",
      "source": [
        "# Saving the Model for future \n",
        "gf_model.save( \"/usr/colab/bin/model1\") "
      ],
      "metadata": {
        "id": "9n5ZW_CmAsVK"
      },
      "execution_count": null,
      "outputs": []
    },
    {
      "cell_type": "code",
      "source": [
        "#Zipping the model files\n",
        "!zip -r /usr/colab/bin/model.zip /usr/colab/bin/model"
      ],
      "metadata": {
        "id": "bGP1Zwxc24RH"
      },
      "execution_count": null,
      "outputs": []
    }
  ]
}